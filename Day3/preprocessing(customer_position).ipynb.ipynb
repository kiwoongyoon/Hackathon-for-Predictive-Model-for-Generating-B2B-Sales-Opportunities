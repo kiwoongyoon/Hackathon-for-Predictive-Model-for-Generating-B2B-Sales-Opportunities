{
 "cells": [
  {
   "cell_type": "code",
   "execution_count": 1,
   "metadata": {},
   "outputs": [
    {
     "name": "stderr",
     "output_type": "stream",
     "text": [
      "/tmp/ipykernel_235687/1148673993.py:1: DeprecationWarning: \n",
      "Pyarrow will become a required dependency of pandas in the next major release of pandas (pandas 3.0),\n",
      "(to allow more performant data types, such as the Arrow string type, and better interoperability with other libraries)\n",
      "but was not found to be installed on your system.\n",
      "If this would cause problems for you,\n",
      "please provide us feedback at https://github.com/pandas-dev/pandas/issues/54466\n",
      "        \n",
      "  import pandas as pd\n"
     ]
    }
   ],
   "source": [
    "import pandas as pd\n",
    "# 데이터셋 불러오기\n",
    "df = pd.read_csv('train.csv')"
   ]
  },
  {
   "cell_type": "code",
   "execution_count": 34,
   "metadata": {},
   "outputs": [
    {
     "name": "stdout",
     "output_type": "stream",
     "text": [
      "customer_position의 전처리 전 Feature 수: 117\n",
      "\n",
      "customer_positiond의 Null 값: 0\n",
      "\n",
      "customer_position의 전처리 전 각 Feature당 value 수 : \n",
      "customer_position\n",
      "none                      19680\n",
      "manager                    8217\n",
      "ceo/founder                7984\n",
      "other                      6499\n",
      "director                   4843\n",
      "                          ...  \n",
      "chairman                      1\n",
      "pgt physics                   1\n",
      "education professional        1\n",
      "chemistry teacher             1\n",
      "radiology professional        1\n",
      "Name: count, Length: 117, dtype: int64\n"
     ]
    }
   ],
   "source": [
    "# 전처리 전\n",
    "customer_position_series = df['customer_position'].value_counts()\n",
    "null_count = df['customer_position'].isnull().sum()\n",
    "print(f\"customer_position의 전처리 전 Feature 수: {len(customer_position_series.index)}\\n\")\n",
    "print(f'customer_positiond의 Null 값: {null_count}\\n')\n",
    "print(f\"customer_position의 전처리 전 각 Feature당 value 수 : \\n{df['customer_position'].value_counts()}\")\n"
   ]
  },
  {
   "cell_type": "markdown",
   "metadata": {},
   "source": [
    "### 전처리 전 Feature 분석"
   ]
  },
  {
   "cell_type": "code",
   "execution_count": 44,
   "metadata": {},
   "outputs": [
    {
     "name": "stdout",
     "output_type": "stream",
     "text": [
      "none\n",
      "manager\n",
      "ceo/founder\n",
      "other\n",
      "director\n",
      "associate/analyst\n",
      "partner\n",
      "entry level\n",
      "others\n",
      "c-level executive\n",
      "trainee\n",
      "vice president\n",
      "intern\n",
      "end-user\n",
      "hospital\n",
      "installer\n",
      "government\n",
      "cargo\n",
      "software /solution provider\n",
      "manufacturer\n",
      "consultant\n",
      "homeowner\n",
      "system integrator\n",
      "unpaid\n",
      "employee\n",
      "medical device manufacturer\n",
      "vicepresident\n",
      "engineering\n",
      "decision maker\n",
      "decision influencer\n",
      "assistant professor\n",
      "bulgaria\n",
      "leadership/executive office/owner\n",
      "not applicable\n",
      "commercial end-user\n",
      "decision-influencer\n",
      "c-levelexecutive\n",
      "customer\n",
      "administrative\n",
      "decision-maker\n",
      "exhibition\n",
      "entrylevel\n",
      "physics teacher\n",
      "gerente\n",
      "operations\n",
      "entrepreneurship\n",
      "medical imaging specialist\n",
      "no influence\n",
      "educator\n",
      "prof.\n",
      "other - please specify - cedia association\n",
      "academic specialist\n",
      "ceo/fundador\n",
      "consulting\n",
      "principal at oxford integrated pu science college\n",
      "math and physics teacher\n",
      "principal & director\n",
      "business development\n",
      "business partner\n",
      "av management\n",
      "founder\n",
      "architect/consultant\n",
      "physics and mathematics teacher\n",
      "science teacher\n",
      "professor of mathematics\n",
      "subsidiary sales (ise)\n",
      "asst prof.\n",
      "associate professor in electronics engg\n",
      "neet/ olympiad expert faculty\n",
      "chief executive officer\n",
      "tierarzt\n",
      "co-founder\n",
      "professional trainer\n",
      "mindenes\n",
      "education\n",
      "president\n",
      "business development/sales\n",
      "sales\n",
      "técnico\n",
      "exhibitiontv\n",
      "proprietário(a)\n",
      "genel müdür\n",
      "teacher\n",
      "főorvos\n",
      "surgery professional\n",
      "pathologist\n",
      "research\n",
      "the big boss\n",
      "senior lecturer\n",
      "vp\n",
      "academic coordinator/ post graduate teacher (accountancy, business studies)/ tgt (ict)\n",
      "product management\n",
      "this is a consume display requirement for home purpose.\n",
      "maths lecturer\n",
      "lider de desarrollo\n",
      "commercial consultant\n",
      "technical\n",
      "architecture/consult\n",
      "distributor\n",
      "business unit director\n",
      "guest faculty\n",
      "physics faculty\n",
      "career coach\n",
      "market intelligence/research\n",
      "director cum faculty at gaining apex coaching centre\n",
      "teacher/middle school coordinator\n",
      "assistant professor of enlish\n",
      "professor\n",
      "quantitative aptitude faculty\n",
      "english trainer for ielts,toefl,pte,gre,sat exams.\n",
      "associate professor\n",
      "hon dean\n",
      "chairman\n",
      "pgt physics\n",
      "education professional\n",
      "chemistry teacher\n",
      "radiology professional\n"
     ]
    }
   ],
   "source": [
    "for i in customer_position_series.index:\n",
    "    print(i)"
   ]
  },
  {
   "cell_type": "code",
   "execution_count": 31,
   "metadata": {},
   "outputs": [],
   "source": [
    "def customer_position_preprosessing(df):\n",
    "    # customer_position feature 전처리 \n",
    "    df['customer_position'] = df['customer_position'].str.lower()\n",
    "    # 특수문자를 대체 문자열 지정\n",
    "    replacement = {'/': ' ', '-':' ', '_':' '}\n",
    "    # replace() 함수를 사용하여 특수 문자 대체\n",
    "    df['customer_position'].replace(replacement, regex=True, inplace=True)\n",
    "    customer_position_series = df['customer_position'].value_counts()\n",
    "    replace_feature = []\n",
    "    for idx, feature in enumerate(customer_position_series.index):\n",
    "        if customer_position_series[idx] == 1:\n",
    "            replace_feature.append(feature)\n",
    "    # 총 53개의 데이터 Concat \n",
    "    df['customer_position'] = df['customer_position'].apply(lambda x: 'aimers_0203' if x in replace_feature else x)\n",
    "    return df"
   ]
  },
  {
   "cell_type": "code",
   "execution_count": 32,
   "metadata": {},
   "outputs": [
    {
     "name": "stdout",
     "output_type": "stream",
     "text": [
      "customer_position의 전처리 전 Feature 수: 64\n",
      "\n",
      "customer_positiond의 Null 값: 0\n",
      "\n",
      "aimers_0203 value 값 : 52\n",
      "\n",
      "customer_position의 전처리 전 각 Feature당 value 수 : \n",
      "customer_position\n",
      "none                                          19680\n",
      "manager                                        8217\n",
      "ceo founder                                    7984\n",
      "other                                          6499\n",
      "director                                       4843\n",
      "                                              ...  \n",
      "other   please specify   cedia association        2\n",
      "science teacher                                   2\n",
      "business development                              2\n",
      "architect consultant                              2\n",
      "consulting                                        2\n",
      "Name: count, Length: 64, dtype: int64\n"
     ]
    },
    {
     "name": "stderr",
     "output_type": "stream",
     "text": [
      "/tmp/ipykernel_139911/1793385421.py:7: FutureWarning: A value is trying to be set on a copy of a DataFrame or Series through chained assignment using an inplace method.\n",
      "The behavior will change in pandas 3.0. This inplace method will never work because the intermediate object on which we are setting values always behaves as a copy.\n",
      "\n",
      "For example, when doing 'df[col].method(value, inplace=True)', try using 'df.method({col: value}, inplace=True)' or df[col] = df[col].method(value) instead, to perform the operation inplace on the original object.\n",
      "\n",
      "\n",
      "  df['customer_position'].replace(replacement, regex=True, inplace=True)\n",
      "/tmp/ipykernel_139911/1793385421.py:11: FutureWarning: Series.__getitem__ treating keys as positions is deprecated. In a future version, integer keys will always be treated as labels (consistent with DataFrame behavior). To access a value by position, use `ser.iloc[pos]`\n",
      "  if customer_position_series[idx] == 1:\n"
     ]
    }
   ],
   "source": [
    "# 전처리 후 \n",
    "prossed_df = customer_position_preprosessing(df)\n",
    "customer_position_series = prossed_df['customer_position'].value_counts()\n",
    "null_count = prossed_df['customer_position'].isnull().sum()\n",
    "print(f\"customer_position의 전처리 전 Feature 수: {len(customer_position_series.index)}\\n\")\n",
    "print(f'customer_positiond의 Null 값: {null_count}\\n')\n",
    "print(f\"aimers_0203 value 값 : {prossed_df['customer_position'].value_counts()['aimers_0203']}\\n\")\n",
    "print(f\"customer_position의 전처리 전 각 Feature당 value 수 : \\n{prossed_df['customer_position'].value_counts()}\")\n"
   ]
  },
  {
   "cell_type": "code",
   "execution_count": null,
   "metadata": {},
   "outputs": [],
   "source": []
  }
 ],
 "metadata": {
  "kernelspec": {
   "display_name": "aimers",
   "language": "python",
   "name": "python3"
  },
  "language_info": {
   "codemirror_mode": {
    "name": "ipython",
    "version": 3
   },
   "file_extension": ".py",
   "mimetype": "text/x-python",
   "name": "python",
   "nbconvert_exporter": "python",
   "pygments_lexer": "ipython3",
   "version": "3.9.13"
  }
 },
 "nbformat": 4,
 "nbformat_minor": 2
}
