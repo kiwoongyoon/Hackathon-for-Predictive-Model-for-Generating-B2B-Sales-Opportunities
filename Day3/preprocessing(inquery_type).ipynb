{
 "cells": [
  {
   "cell_type": "code",
   "execution_count": 15,
   "metadata": {},
   "outputs": [],
   "source": [
    "import pandas as pd\n",
    "\n",
    "df = pd.read_csv('train.csv')"
   ]
  },
  {
   "cell_type": "code",
   "execution_count": 16,
   "metadata": {},
   "outputs": [
    {
     "name": "stdout",
     "output_type": "stream",
     "text": [
      "inquiry_type의 전처리 전 Feature 수: 71\n",
      "\n",
      "inquiry_type의 전처리 전 각 Feature당 value 수 : \n",
      "inquiry_type\n",
      "Quotation or purchase consultation                                                                                     23274\n",
      "Quotation or Purchase Consultation                                                                                     18766\n",
      "Sales Inquiry                                                                                                           9977\n",
      "Product Information                                                                                                     1237\n",
      "Other                                                                                                                    929\n",
      "                                                                                                                       ...  \n",
      "quotation_                                                                                                                 1\n",
      "display product                                                                                                            1\n",
      "first Info and pricing                                                                                                     1\n",
      "estoy buscando para Ecuador este producto LG MAGNIT micro LED, para un cliente de 138 pulgadas, con envió marítimo.        1\n",
      "Evento_SdelEstero                                                                                                          1\n",
      "Name: count, Length: 71, dtype: int64\n"
     ]
    }
   ],
   "source": [
    "inquiry_series = df['inquiry_type'].value_counts()\n",
    "print(f\"inquiry_type의 전처리 전 Feature 수: {len(inquiry_series.index)}\\n\")\n",
    "print(f\"inquiry_type의 전처리 전 각 Feature당 value 수 : \\n{df['inquiry_type'].value_counts()}\")"
   ]
  },
  {
   "cell_type": "markdown",
   "metadata": {},
   "source": [
    "### 추가 분석사항"
   ]
  },
  {
   "cell_type": "code",
   "execution_count": 17,
   "metadata": {},
   "outputs": [],
   "source": [
    "############ 카테고리 나누기 inquiry_type.index\n",
    "\n",
    "### 외국어 \n",
    "\n",
    "# tôi cần tham khảo giá và giải pháp từ lg: LG에서 가격과 솔루션을 상담받아야겠어요\n",
    "# toi muon tim hieu thong tin ky thuat, gia ca cua sp de su dung: 사용하실 제품의 디자인 정보와 가격을 알고 싶습니다.\n",
    "# vui lòng báo giá giúp mình sản phẩm đo thân nhiệt xin cảm ơn: 체온측정 제품 견적 부탁드려요 감사합니다\n",
    "# preciso de um monitor médico para radiografia convencional e tomogrtafia.: 일반 방사선 촬영 및 단층 촬영을 위한 의료용 모니터가 필요합니다.\n",
    "# intégrateur historique du george v: 조지 v의 역사적 통합자\n",
    "# solicito apoyo para realizar cotizacion de los dispositivos que ofrecen en la solución one quick: 하나의 빠른 솔루션으로 제공하는 장치에 대한 견적을 요청합니다.\n",
    "# hola me pueden cotizar 19 pantallas interactivas de 100 pulgadas entregadas en guayaquil  ecuador.: 안녕하세요. 에콰도르 과야킬에서 배송된 100인치 대화형 스크린 19개를 인용해 주시겠어요?\n",
    "# 'estoy buscando para ecuador este producto lg magnit micro led, para un cliente de 138 pulgadas, con envió marítimo.': 저는 에콰도르에서 138인치 고객을 위해 해상 배송이 가능한 LG magnit 마이크로 LED 제품을 찾고 있습니다.\n",
    "# 'preciso de um monitor médico para radiografia convencional e tomogrtafia.': 일반 방사선 촬영 및 단층 촬영을 위한 의료용 모니터가 필요합니다\n",
    "\n",
    "\n",
    "### quotation / purchase consultation\n",
    "\n",
    "# quotation or purchase consultation (견적이나 구매상담)\n",
    "# request for quotation or purchase \n",
    "# purchase\n",
    "# purchase or quotation\n",
    "# probeam precio: 프로빔 가격\n",
    "\n",
    "# sales inquiry (판매 문의)\n",
    "\n",
    "# production infotmation (상품정보)\n",
    "# i want to know the details about it\n",
    "# usage or technical consultation (사용법이나 기술상담)\n",
    "# first info and pricing\n",
    "\n",
    "\n",
    "# other\n",
    "# etc. \n",
    "# others\n",
    "# quotation\n",
    "# high inch 86   98 or 110\n",
    "# vrf\n",
    "# services\n",
    "# idb\n",
    "# oem odm request\n",
    "# standalone\n",
    "# led signage\n",
    "# not specified\n",
    "# digital platform\n",
    "# (select id needs)\n",
    "# aio\n",
    "# needs\n",
    "# trainings\n",
    "# one quick:flex\n",
    "\n",
    "\n",
    "# technical consultation ## \n",
    "# request for technical consulting\n",
    "# technical\n",
    "# technical support\n",
    "\n",
    "# request for partnership \n",
    "# request for distributorship\n",
    "\n",
    "# request a demo,\n",
    "# sales\n",
    "# event inquiry\n",
    "# media inquiry\n",
    "# evento sdelestero: sdelestero 이벤트 \n",
    "\n",
    "# for school\n",
    "# educational equipments\n",
    "# teach\n",
    "\n",
    "\n",
    "# 'hospital tv\n",
    "# 'hotel tv products\n",
    "# 'display textbook and photos\n",
    "# 'window facing product\n",
    "# 'tv interactive\n",
    "# 'display product\n",
    "# 'video wall\n",
    "# pantallas interactivas para clinicas\n",
    "\n",
    "# 'customer suggestions'"
   ]
  },
  {
   "cell_type": "code",
   "execution_count": 18,
   "metadata": {},
   "outputs": [],
   "source": [
    "def inquiry_type_preprosessing(df):\n",
    "    # inquiry_type feature 전처리 \n",
    "    df['inquiry_type'] = df['inquiry_type'].str.lower()\n",
    "    # 특수문자를 대체 문자열 지정\n",
    "    replacement = {'/': ' ', '-':' ', '_':' '}\n",
    "    # replace() 함수를 사용하여 특수 문자 대체\n",
    "    df['inquiry_type'].replace(replacement, regex=True, inplace=True)\n",
    "    # value count의 값이 1개인 feature name extraction (해당 방식 토의) \n",
    "    inquiry_series = df['inquiry_type'].value_counts()\n",
    "    replace_feature = []\n",
    "    for idx, feature in enumerate(inquiry_series.index):\n",
    "        if inquiry_series[idx] == 1:\n",
    "            replace_feature.append(feature)\n",
    "    # 총 39개의 데이터 Concat\n",
    "    df['inquiry_type'] = df['inquiry_type'].apply(lambda x: 'aimers_0203' if x in replace_feature else x)\n",
    "    return df"
   ]
  },
  {
   "cell_type": "code",
   "execution_count": 19,
   "metadata": {},
   "outputs": [
    {
     "name": "stdout",
     "output_type": "stream",
     "text": [
      "inquiry_type의 전처리 후 Feature 수: 32\n",
      "\n",
      "inquiry_type의 전처리 후 aimers_0203 수: 29\n",
      "\n",
      "inquiry_type의 전처리 후 각 Feature당 value 수 : \n",
      "inquiry_type\n",
      "quotation or purchase consultation                                42138\n",
      "sales inquiry                                                      9981\n",
      "product information                                                1237\n",
      "usage or technical consultation                                    1190\n",
      "other                                                               951\n",
      "trainings                                                           434\n",
      "technical consultation                                              433\n",
      "services                                                            415\n",
      "request for partnership                                             297\n",
      "request for quotation or purchase                                   230\n",
      "etc.                                                                221\n",
      "request a demo                                                      184\n",
      "others                                                              129\n",
      "technical support                                                   110\n",
      "other                                                               100\n",
      "sales                                                               100\n",
      "request for distributorship                                          75\n",
      "request for technical consulting                                     37\n",
      "aimers_0203                                                          29\n",
      "customer suggestions                                                 12\n",
      "purchase or quotation                                                10\n",
      "idb                                                                  10\n",
      "technical                                                             8\n",
      "event inquiry                                                         5\n",
      "oem odm request                                                       5\n",
      "purchase                                                              5\n",
      "vui lòng báo giá giúp mình sản phẩm đo thân nhiệt xin cảm ơn          2\n",
      "probeam precio                                                        2\n",
      "media inquiry                                                         2\n",
      "video wall                                                            2\n",
      "toi muon tim hieu thong tin ky thuat, gia ca cua sp de su dung        2\n",
      "tôi cần tham khảo giá và giải pháp từ lg                              2\n",
      "Name: count, dtype: int64\n"
     ]
    },
    {
     "name": "stderr",
     "output_type": "stream",
     "text": [
      "/tmp/ipykernel_147357/4166170911.py:7: FutureWarning: A value is trying to be set on a copy of a DataFrame or Series through chained assignment using an inplace method.\n",
      "The behavior will change in pandas 3.0. This inplace method will never work because the intermediate object on which we are setting values always behaves as a copy.\n",
      "\n",
      "For example, when doing 'df[col].method(value, inplace=True)', try using 'df.method({col: value}, inplace=True)' or df[col] = df[col].method(value) instead, to perform the operation inplace on the original object.\n",
      "\n",
      "\n",
      "  df['inquiry_type'].replace(replacement, regex=True, inplace=True)\n",
      "/tmp/ipykernel_147357/4166170911.py:12: FutureWarning: Series.__getitem__ treating keys as positions is deprecated. In a future version, integer keys will always be treated as labels (consistent with DataFrame behavior). To access a value by position, use `ser.iloc[pos]`\n",
      "  if inquiry_series[idx] == 1:\n"
     ]
    }
   ],
   "source": [
    "preprocessed_dataset = inquiry_type_preprosessing(df)\n",
    "inquiry_type_series = preprocessed_dataset['inquiry_type'].value_counts()\n",
    "print(f\"inquiry_type의 전처리 후 Feature 수: {len(inquiry_type_series.index)}\\n\")\n",
    "print(f\"inquiry_type의 전처리 후 aimers_0203 수: {inquiry_type_series['aimers_0203']}\\n\")\n",
    "print(f\"inquiry_type의 전처리 후 각 Feature당 value 수 : \\n{df['inquiry_type'].value_counts()}\")"
   ]
  },
  {
   "cell_type": "code",
   "execution_count": null,
   "metadata": {},
   "outputs": [],
   "source": []
  }
 ],
 "metadata": {
  "kernelspec": {
   "display_name": "aimers",
   "language": "python",
   "name": "python3"
  },
  "language_info": {
   "codemirror_mode": {
    "name": "ipython",
    "version": 3
   },
   "file_extension": ".py",
   "mimetype": "text/x-python",
   "name": "python",
   "nbconvert_exporter": "python",
   "pygments_lexer": "ipython3",
   "version": "3.9.13"
  }
 },
 "nbformat": 4,
 "nbformat_minor": 2
}
